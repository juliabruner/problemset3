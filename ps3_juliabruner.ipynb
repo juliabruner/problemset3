{
 "cells": [
  {
   "cell_type": "markdown",
   "id": "3e2f13d1-efb1-4b2c-9186-70b1c3ac236c",
   "metadata": {},
   "source": [
    "# Problem Set 3\n",
    "#### Julia Bruner \n",
    "#### Group: Kaylin Kleckner, Amanda Markee"
   ]
  },
  {
   "cell_type": "markdown",
   "id": "d9a768c1-ef3c-4a6b-a95a-d1ee815e6ac0",
   "metadata": {},
   "source": [
    "# Problem 1\n",
    "\n",
    "Write a script (or Jupyter Notebook code block) that opens the file, uses a for loop to read through the file line by line and reports the highest water level and the date and time that was observed."
   ]
  },
  {
   "cell_type": "code",
   "execution_count": 7,
   "id": "f84bcaca-47e6-411c-a23f-7f18901d9f99",
   "metadata": {},
   "outputs": [
    {
     "name": "stdout",
     "output_type": "stream",
     "text": [
      "The maximum water level is 6.647 inches, recorded on 2018-10-10 18:06\n"
     ]
    }
   ],
   "source": [
    "# Open file \n",
    "fhand = open('/blue/bsc4452/share/Class_Files/data/CO-OPS__8729108__wl.csv')\n",
    "\n",
    "# Define and initialize variables\n",
    "count = 0 \n",
    "max_lvl = 0\n",
    "date_max = ''\n",
    "\n",
    "# Iterate through file, seperate by line and column to retrive water level and date\n",
    "for line in fhand:\n",
    "    line = line.strip()\n",
    "    columns = line.split(sep=',')\n",
    "    date = (columns[0])\n",
    "    \n",
    "# For each line re-define the variable 'water_lvl' as the item in the second column (index 1)\n",
    "    try:\n",
    "        water_lvl = float(columns[1])\n",
    "    except:\n",
    "        continue\n",
    "        \n",
    "# if water level is greater than the stored max level, overwirte the max water level variable with the value from iteraiton\n",
    "    if water_lvl > max_lvl:\n",
    "        max_lvl = water_lvl\n",
    "        date_max = date\n",
    "        \n",
    "# return the max level and date it was taken\n",
    "print(f'The maximum water level is {max_lvl} inches, recorded on {date_max}')"
   ]
  },
  {
   "cell_type": "markdown",
   "id": "fabfc3b7-efe3-4600-a27f-57adcbace5f4",
   "metadata": {},
   "source": [
    "### P1 Answer"
   ]
  },
  {
   "cell_type": "code",
   "execution_count": 8,
   "id": "0e3ecee1-81e3-4e4d-a0e4-b7ebe5961c19",
   "metadata": {},
   "outputs": [
    {
     "name": "stdout",
     "output_type": "stream",
     "text": [
      "The maximum water level is 6.647 inches, recorded on 2018-10-10 18:06\n"
     ]
    }
   ],
   "source": [
    "print(f'The maximum water level is {max_lvl} inches, recorded on {date_max}')"
   ]
  },
  {
   "cell_type": "markdown",
   "id": "5b1692d7-121d-4cdd-95ab-177a0d10520c",
   "metadata": {},
   "source": [
    "# Problem 2\n",
    "Either in a new script or modifying the above script, calculate the lowest, highest and average water level observed during the time period. As above, print the date and time for the lowest and highest readings."
   ]
  },
  {
   "cell_type": "code",
   "execution_count": 9,
   "id": "a191df6b-e004-4e24-a619-73efdb01dc85",
   "metadata": {},
   "outputs": [
    {
     "name": "stdout",
     "output_type": "stream",
     "text": [
      "The maximum water level is 6.647 inches, recorded on 2018-10-10 18:06\n",
      "The minimum water level is 1.621 inches, recorded on 2018-10-11 15:36\n",
      "The average water level is 2.9823232044198895 inches\n"
     ]
    }
   ],
   "source": [
    "# Highest \n",
    "\n",
    "#open file, define and initialize variables\n",
    "fhand = open('/blue/bsc4452/share/Class_Files/data/CO-OPS__8729108__wl.csv') \n",
    "max_lvl = 0\n",
    "date_max = ''\n",
    "\n",
    "# Iterate through file, seperate by line and column to retrive water level and date\n",
    "for line in fhand:\n",
    "    line = line.strip()\n",
    "    columns = line.split(sep=',')\n",
    "    date = (columns[0])\n",
    "    \n",
    "# For each line re-define the variable 'water_lvl' as the item in the second column (index 1)\n",
    "    try:\n",
    "        water_lvl = float(columns[1])\n",
    "    except:\n",
    "        continue\n",
    "        \n",
    "# if water level is greater than the stored max level, overwrite the max water level variable with the value from iteraiton\n",
    "    if water_lvl > max_lvl:\n",
    "        max_lvl = water_lvl\n",
    "        date_max = date\n",
    "print(f'The maximum water level is {max_lvl} inches, recorded on {date_max}')\n",
    "        \n",
    "    \n",
    "    \n",
    "# Lowest\n",
    "\n",
    "fhand = open('/blue/bsc4452/share/Class_Files/data/CO-OPS__8729108__wl.csv') \n",
    "# define and initialize variables\n",
    "min_lvl = 10\n",
    "date_min = ''\n",
    "\n",
    "# Iterate through file, seperate by line and column to retrive water level and date\n",
    "for line in fhand:\n",
    "    line = line.strip()\n",
    "    columns = line.split(sep=',')\n",
    "    date = (columns[0])\n",
    "    \n",
    "# For each line re-define the variable 'water_lvl' as the item in the second column (index 1)\n",
    "    try:\n",
    "        water_lvl = float(columns[1])\n",
    "    except:\n",
    "        continue\n",
    "        \n",
    "# if water level is greater than the stored min level, overwrite the min water level variable with the value from iteraiton\n",
    "    if water_lvl < min_lvl:\n",
    "        min_lvl = water_lvl\n",
    "        date_min = date\n",
    "print(f'The minimum water level is {min_lvl} inches, recorded on {date_min}')\n",
    "\n",
    "        \n",
    "        \n",
    "# Average\n",
    "\n",
    "from statistics import mean\n",
    "\n",
    "# define and intialize an empty list\n",
    "fhand = open('/blue/bsc4452/share/Class_Files/data/CO-OPS__8729108__wl.csv') \n",
    "levels = []\n",
    "\n",
    "for line in fhand:\n",
    "    line = line.strip()\n",
    "    columns = line.split(sep=',')\n",
    "    date = (columns[0])\n",
    "    try:\n",
    "        levels.append(float(columns[1]))\n",
    "    except: \n",
    "        continue\n",
    "        \n",
    "mean_lvl = mean(levels)       \n",
    "print(f'The average water level is {mean_lvl} inches')\n",
    "    \n",
    "        "
   ]
  },
  {
   "cell_type": "markdown",
   "id": "441c3285-785b-4e59-adbf-8c414a01ad03",
   "metadata": {},
   "source": [
    "### P2 Answer"
   ]
  },
  {
   "cell_type": "code",
   "execution_count": 10,
   "id": "49071093-dd0e-4d61-9dd1-e65edfce8a31",
   "metadata": {},
   "outputs": [
    {
     "name": "stdout",
     "output_type": "stream",
     "text": [
      "The maximum water level is 6.647 inches, recorded on 2018-10-10 18:06\n",
      "The minimum water level is 1.621 inches, recorded on 2018-10-11 15:36\n",
      "The average water level is 2.9823232044198895 inches\n"
     ]
    }
   ],
   "source": [
    "print(f'The maximum water level is {max_lvl} inches, recorded on {date_max}')\n",
    "print(f'The minimum water level is {min_lvl} inches, recorded on {date_min}')\n",
    "print(f'The average water level is {mean_lvl} inches')"
   ]
  },
  {
   "cell_type": "markdown",
   "id": "5a59daa4-065d-416e-bfc3-843ae830edb0",
   "metadata": {},
   "source": [
    "# Problem 3\n",
    "Write a script (or Jupyter Notebook) that calculates the fastest rise in water level per 6-minute period between measurements (for this assignment, assume that each line of the dataset is a 6-minute interval) and reports the date and time that was observed and the change in water level from the previous recording."
   ]
  },
  {
   "cell_type": "code",
   "execution_count": 11,
   "id": "ebf64535-5085-4340-8c6d-c3f020361458",
   "metadata": {},
   "outputs": [
    {
     "name": "stdout",
     "output_type": "stream",
     "text": [
      "0.6400000000000006\n",
      "2018-10-10 17:42\n"
     ]
    }
   ],
   "source": [
    "\n",
    "fhand = open('/blue/bsc4452/share/Class_Files/data/CO-OPS__8729108__wl.csv') \n",
    "\n",
    "# define and initialize variables\n",
    "# prev_lvl = \n",
    "max_delta = 0\n",
    "prev_lvl = 2.421\n",
    "\n",
    "for line in fhand:\n",
    "    line = line.strip()\n",
    "    columns = line.split(sep=',')\n",
    "    date = (columns[0])\n",
    "    \n",
    "    try:\n",
    "        curr_lvl = float(columns[1])\n",
    "    except:\n",
    "        continue \n",
    "    \n",
    "    delta_lvl = curr_lvl - prev_lvl\n",
    "    \n",
    "    if delta_lvl > max_delta:\n",
    "        max_delta = delta_lvl\n",
    "        delta_date = date\n",
    "    \n",
    "    prev_lvl = curr_lvl\n",
    "\n",
    "print(max_delta)\n",
    "print(delta_date)\n",
    "# do indexing to find the correct date \n"
   ]
  },
  {
   "cell_type": "markdown",
   "id": "4669f167-b5e0-45ae-963d-b06877c4aa7e",
   "metadata": {},
   "source": [
    "### P3 Answer"
   ]
  },
  {
   "cell_type": "code",
   "execution_count": 17,
   "id": "e5fc6348-11f9-4687-b18f-b918f6ba8979",
   "metadata": {},
   "outputs": [
    {
     "name": "stdout",
     "output_type": "stream",
     "text": [
      "The greatest change in water level was recorded 2018-10-10 17:42\n",
      "The change in water level at this date/time was 0.6400000000000006 inches\n"
     ]
    }
   ],
   "source": [
    "print(f'The greatest change in water level was recorded {delta_date}')\n",
    "print(f'The change in water level at this date/time was {max_delta} inches')"
   ]
  },
  {
   "cell_type": "markdown",
   "id": "f3d6da9f-ee87-4dfd-b46d-91ac4ed4125d",
   "metadata": {},
   "source": [
    "# Problem 4\n",
    "\n",
    "Imagine that the file is providing live readings of the water level. Write a script (or Jupyter Notebook) to print a line of text with a warning if any of these events occur: (1) The water level increases more than 0.25 since the previous recording. (2) The water level is over 5.0. (3) No reading is received at a time point."
   ]
  },
  {
   "cell_type": "code",
   "execution_count": 5,
   "id": "ced9c9fd-f2bf-4e19-b466-7cd8b8c46c81",
   "metadata": {},
   "outputs": [
    {
     "name": "stdout",
     "output_type": "stream",
     "text": [
      "WARNING: The water level has risen more than 0.25 feet! (Change in water level = 0.3019999999999996 ft)\n",
      "WARNING: The water level has risen more than 0.25 feet! (Change in water level = 0.2789999999999999 ft)\n",
      "WARNING: The water level has risen more than 0.25 feet! (Change in water level = 0.6400000000000006 ft)\n",
      "WARNING: The water level is over 5.0 feet! (Water level = 5.591 ft)\n",
      "WARNING: The water level has risen more than 0.25 feet! (Change in water level = 0.367 ft)\n",
      "WARNING: The water level is over 5.0 feet! (Water level = 5.958 ft)\n",
      "WARNING: The water level has risen more than 0.25 feet! (Change in water level = 0.44599999999999973 ft)\n",
      "WARNING: The water level is over 5.0 feet! (Water level = 6.404 ft)\n",
      "WARNING: The water level is over 5.0 feet! (Water level = 6.575 ft)\n",
      "WARNING: The water level is over 5.0 feet! (Water level = 6.647 ft)\n",
      "WARNING: The water level is over 5.0 feet! (Water level = 6.503 ft)\n",
      "WARNING: No reading recieved at 2018-10-10 18:18\n",
      "WARNING: The water level is over 5.0 feet! (Water level = 6.309 ft)\n",
      "WARNING: The water level is over 5.0 feet! (Water level = 6.024 ft)\n",
      "WARNING: The water level is over 5.0 feet! (Water level = 5.725 ft)\n",
      "WARNING: The water level is over 5.0 feet! (Water level = 5.699 ft)\n",
      "WARNING: The water level is over 5.0 feet! (Water level = 5.449 ft)\n",
      "WARNING: The water level is over 5.0 feet! (Water level = 5.338 ft)\n",
      "WARNING: The water level is over 5.0 feet! (Water level = 5.22 ft)\n"
     ]
    }
   ],
   "source": [
    "# Open file\n",
    "fhand = open('/blue/bsc4452/share/Class_Files/data/CO-OPS__8729108__wl.csv')\n",
    "\n",
    "# Define and initialize variables\n",
    "prev_lvl = 2.421 #set as first value in column\n",
    "\n",
    "# Remove header\n",
    "fhand.readline() #reads first line and throws it away\n",
    "\n",
    "for line in fhand:\n",
    "    line = line.strip()\n",
    "    columns = line.split(sep=\",\") #separate columns by commas\n",
    "    date = columns[0] #define date as the first column\n",
    "    \n",
    "    try:\n",
    "        curr_lvl = float(columns[1]) #define water level as second column, only taking floating points\n",
    "    except:\n",
    "        print(f\"WARNING: No reading recieved at {date}\") #print warning for blank rows\n",
    "        continue\n",
    "        \n",
    "    delta_lvl = curr_lvl - prev_lvl #define change in water level\n",
    "    \n",
    "    if delta_lvl > 0.25: #define warning for change in water level\n",
    "        print(f\"WARNING: The water level has risen more than 0.25 feet! (Change in water level = {delta_lvl} ft)\")\n",
    "        \n",
    "    if curr_lvl > 5: #define warning for height of water level\n",
    "        print(f\"WARNING: The water level is over 5.0 feet! (Water level = {curr_lvl} ft)\")\n",
    "        \n",
    "    prev_lvl = curr_lvl #redefine previous water level for comparison in the next loop iteration"
   ]
  },
  {
   "cell_type": "markdown",
   "id": "a46a737e-109b-4ae0-92ca-5be8dcdb7a52",
   "metadata": {},
   "source": [
    "### P4 Answer"
   ]
  },
  {
   "cell_type": "markdown",
   "id": "5be65d8a-7943-4131-9630-d6aff75789d6",
   "metadata": {},
   "source": [
    "please see problem 4 print screen "
   ]
  }
 ],
 "metadata": {
  "kernelspec": {
   "display_name": "UFRC Python-3.10",
   "language": "python",
   "name": "python3-3.10-ufrc"
  },
  "language_info": {
   "codemirror_mode": {
    "name": "ipython",
    "version": 3
   },
   "file_extension": ".py",
   "mimetype": "text/x-python",
   "name": "python",
   "nbconvert_exporter": "python",
   "pygments_lexer": "ipython3",
   "version": "3.10.5"
  }
 },
 "nbformat": 4,
 "nbformat_minor": 5
}
